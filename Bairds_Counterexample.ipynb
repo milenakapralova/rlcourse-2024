{
 "cells": [
  {
   "cell_type": "code",
   "execution_count": 20,
   "metadata": {},
   "outputs": [],
   "source": [
    "import numpy as np\n",
    "import sys \n",
    "import matplotlib.pyplot as plt\n",
    "\n",
    "assert sys.version_info[:3] >= (3, 6, 0), \"Make sure you have Python 3.6 installed!\""
   ]
  },
  {
   "cell_type": "markdown",
   "metadata": {},
   "source": [
    "# Baird's Counterexample\n",
    "Baird's counterexample is described in Section 11.2 of the book. For your convenience, we have implemented it below."
   ]
  },
  {
   "cell_type": "code",
   "execution_count": 2,
   "metadata": {},
   "outputs": [],
   "source": [
    "class BairdsCounterExample:                                                                      \n",
    "    def __init__(self):\n",
    "        self.n_states = 7\n",
    "    \n",
    "    def reset(self):\n",
    "        self.current = np.random.choice(np.arange(0, 6))\n",
    "        return self.current \n",
    "    \n",
    "    def step(self, action):\n",
    "        if action == 1:\n",
    "            self.current = 6\n",
    "        elif action == 0:\n",
    "            self.current = np.random.choice(np.arange(0, 6))\n",
    "        done = False\n",
    "        return self.current, 0, done, \"\"    "
   ]
  },
  {
   "cell_type": "markdown",
   "metadata": {},
   "source": [
    "# Policies"
   ]
  },
  {
   "cell_type": "code",
   "execution_count": 3,
   "metadata": {},
   "outputs": [],
   "source": [
    "\n",
    "class TargetPol(object):\n",
    "\n",
    "    def get_probs(self, states, actions):\n",
    "        \"\"\"\n",
    "        This method takes a list of states and a list of actions and returns a numpy array that contains a probability\n",
    "        of perfoming action in given state for every corresponding state action pair. \n",
    "\n",
    "        Args:\n",
    "            states: a list of states.\n",
    "            actions: a list of actions.\n",
    "\n",
    "        Returns:\n",
    "            Numpy array filled with probabilities (same length as states and actions)\n",
    "        \"\"\"\n",
    "        \n",
    "        probs = []\n",
    "        for action in actions:\n",
    "            if action:\n",
    "                probs.append(1)  \n",
    "            \n",
    "            else:\n",
    "                probs.append(0)  \n",
    "                \n",
    "        \n",
    "        return np.array(probs)\n",
    "    \n",
    "    def sample_action(self, state):\n",
    "        \"\"\"\n",
    "        This method takes a state as input and returns an action sampled from this policy.  \n",
    "\n",
    "        Args:\n",
    "            state: current state\n",
    "\n",
    "        Returns:\n",
    "            An action (int).\n",
    "        \"\"\"\n",
    "        \n",
    "        actions = list(range(2))\n",
    "        probs = self.get_probs([state, state], actions)\n",
    "        # Sample from a categorical distribution\n",
    "        action = np.argmax(np.random.rand() < probs.cumsum())\n",
    "        return action\n",
    "    \n",
    "\n",
    "\n",
    "\n",
    "class BehaviorPol(object):\n",
    "\n",
    "    def get_probs(self, states, actions):\n",
    "        \"\"\"\n",
    "        This method takes a list of states and a list of actions and returns a numpy array that contains a probability\n",
    "        of perfoming action in given state for every corresponding state action pair. \n",
    "\n",
    "        Args:\n",
    "            states: a list of states.\n",
    "            actions: a list of actions.\n",
    "\n",
    "        Returns:\n",
    "            Numpy array filled with probabilities (same length as states and actions)\n",
    "        \"\"\"\n",
    "        # YOUR CODE HERE\n",
    "        probs = []\n",
    "        for action in actions:\n",
    "            if not action:\n",
    "                probs.append(6/7)  \n",
    "            else:\n",
    "                probs.append(1/6)  \n",
    "\n",
    "        return np.array(probs)\n",
    "    \n",
    "    def sample_action(self, state):\n",
    "        \"\"\"\n",
    "        This method takes a state as input and returns an action sampled from this policy.  \n",
    "\n",
    "        Args:\n",
    "            state: current state\n",
    "\n",
    "        Returns:\n",
    "            An action (int).\n",
    "        \"\"\"\n",
    "        # YOUR CODE HERE\n",
    "        actions = list(range(2))\n",
    "        probs = self.get_probs([state, state], actions)\n",
    "        # Sample from a categorical distribution\n",
    "        action = np.argmax(np.random.rand() < probs.cumsum())\n",
    "        return action"
   ]
  },
  {
   "cell_type": "markdown",
   "metadata": {},
   "source": [
    "## Semi-Gradient TD(0)\n",
    "Implement Semi-Gradient TD(0) (Equation 11.2 in the book) and plot the values of each weight. Use for your weight vector $w \\in \\mathbb{R}^8$, with the linear parameterization as given in Figure 11.1 of the book. Use a step size of $\\alpha=0.01$, a discount factor of $\\gamma=0.99$ and initialize the weights as $w=(1, 1, 1, 1, 1, 1, 10, 1)$ and run for 1000 steps."
   ]
  },
  {
   "cell_type": "code",
   "execution_count": 67,
   "metadata": {},
   "outputs": [],
   "source": [
    "def semi_gradient_td(env, behavior_policy, target_policy, num_steps, alpha=0.01, discount_factor=0.99):\n",
    "    \"\"\"\n",
    "    Semi-gradien TD(0) algorithm: Finds the optimal state-value function using a behavior policy to select \n",
    "    actions while learning about a target policy.\n",
    "    \n",
    "    Args:\n",
    "        env: Environment class object.\n",
    "        policy: A behavior policy which allows us to sample actions.\n",
    "        num_steps: Number of update steps to run for.\n",
    "        alpha: Update step-size.\n",
    "        discount_factor: Gamma discount factor.\n",
    "    \n",
    "    \"\"\"\n",
    "    # initialize weights\n",
    "    \n",
    "    w = np.array([1.0, 1.0, 1.0, 1.0, 1.0, 1.0, 10.0, 1.0])\n",
    "    V = np.zeros((num_steps+1, len(w)))\n",
    "    X = np.array([[2.0, 0.0, 0.0, 0.0, 0.0, 0.0, 0.0, 1.0],\n",
    "                  [0.0, 2.0, 0.0, 0.0, 0.0, 0.0, 0.0, 1.0],\n",
    "                  [0.0, 0.0, 2.0, 0.0, 0.0, 0.0, 0.0, 1.0],\n",
    "                  [0.0, 0.0, 0.0, 2.0, 0.0, 0.0, 0.0, 1.0],\n",
    "                  [0.0, 0.0, 0.0, 0.0, 2.0, 0.0, 0.0, 1.0],\n",
    "                  [0.0, 0.0, 0.0, 0.0, 0.0, 2.0, 0.0, 1.0],\n",
    "                  [0.0, 0.0, 0.0, 0.0, 0.0, 0.0, 1.0, 2.0]])\n",
    "    \n",
    "    state = env.reset()\n",
    "    V[0] = w\n",
    "    \n",
    "    for i in range(num_steps):        \n",
    "        action = behavior_policy.sample_action(state)\n",
    "        next_state, reward, done, _ = env.step(action)\n",
    "        \n",
    "        behavior_prob = behavior_policy.get_probs([state], [action])[0]\n",
    "        target_prob = target_policy.get_probs([state], [action])[0]\n",
    "        importance_sampling_ratio = target_prob / behavior_prob\n",
    "        # print(importance_sampling_ratio)\n",
    "                \n",
    "        # semigradient off-policy TD update\n",
    "        w += alpha * importance_sampling_ratio*(reward + discount_factor * w @ X[next_state] - w @ X[state])*X[state]\n",
    "        # print(w)\n",
    "        state = next_state\n",
    "        V[i+1]=w\n",
    "    \n",
    "        # print(V)\n",
    " \n",
    "    \n",
    "    return w, V\n",
    "\n",
    "# now plot the values of each weight over the 1000 update steps\n",
    "w, V =semi_gradient_td(BairdsCounterExample(), BehaviorPol(), TargetPol(), num_steps=1000, alpha=0.01, discount_factor=0.99)\n"
   ]
  },
  {
   "cell_type": "code",
   "execution_count": 68,
   "metadata": {},
   "outputs": [
    {
     "data": {
      "image/png": "[encoded data removed]",
      "text/plain": [
       "<Figure size 640x480 with 1 Axes>"
      ]
     },
     "metadata": {},
     "output_type": "display_data"
    }
   ],
   "source": [
    "fig = plt.figure()\n",
    "\n",
    "for i in range(8):\n",
    "    plt.plot(list(range(1001)), V[:,i], label=f\"w{i+1}\")\n",
    "\n",
    "plt.legend()\n",
    "plt.show()"
   ]
  },
  {
   "cell_type": "markdown",
   "metadata": {},
   "source": [
    "We can see how the weights explote and therefore we have divergence. The true value function should be 0, i.e, w should be 0"
   ]
  },
  {
   "cell_type": "code",
   "execution_count": null,
   "metadata": {},
   "outputs": [],
   "source": []
  }
 ],
 "metadata": {
  "kernelspec": {
   "display_name": "Python 3 (ipykernel)",
   "language": "python",
   "name": "python3"
  },
  "language_info": {
   "codemirror_mode": {
    "name": "ipython",
    "version": 3
   },
   "file_extension": ".py",
   "mimetype": "text/x-python",
   "name": "python",
   "nbconvert_exporter": "python",
   "pygments_lexer": "ipython3",
   "version": "3.7.16"
  }
 },
 "nbformat": 4,
 "nbformat_minor": 4
}
